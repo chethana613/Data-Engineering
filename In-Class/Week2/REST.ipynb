{
  "nbformat": 4,
  "nbformat_minor": 0,
  "metadata": {
    "colab": {
      "provenance": []
    },
    "kernelspec": {
      "name": "python3",
      "display_name": "Python 3"
    },
    "language_info": {
      "name": "python"
    }
  },
  "cells": [
    {
      "cell_type": "code",
      "source": [
        "import requests\n",
        "import json\n",
        "from datetime import datetime, timedelta\n",
        "\n",
        "API_KEY = '7bd190799f5f77d6cd797f5eb87e75cf'\n",
        "\n",
        "BASE_URL = 'http://api.openweathermap.org/data/2.5/weather?'\n",
        "\n",
        "# Custom Input\n",
        "city = input(\"Please enter the city: \")\n",
        "state = input(\"Please enter the state: \")\n",
        "current_weather_url = BASE_URL + f'q={city},{state}&appid={API_KEY}'\n",
        "response = requests.get(current_weather_url)\n",
        "data = response.json()\n",
        "is_raining = any(weather['main'] == 'Rain' for weather in data['weather'])\n",
        "\n",
        "#Predicton after 10 days. Let's suppose the class meets after 10 days.\n",
        "class_meeting_time_in_utc = datetime.utcnow() + timedelta(days=10)\n",
        "forecast_url = BASE_URL + f'q={city},{state}&appid={API_KEY}&dt={int(class_meeting_time_in_utc.timestamp())}'\n",
        "response_forecast = requests.get(forecast_url)\n",
        "forecast = response_forecast.json()\n",
        "will_be_raining = any(weather['main'] == 'Rain' for weather in forecast['weather'])\n",
        "\n",
        "# Display\n",
        "print(f\"Is it raining in {city}, {state}? {'Yes' if is_raining else 'No'}\")\n",
        "print(f\"Is it going to be raining when our class next meets? {'Yes' if will_be_raining else 'No'}\")\n"
      ],
      "metadata": {
        "colab": {
          "base_uri": "https://localhost:8080/"
        },
        "id": "hPWc9-7ATeeJ",
        "outputId": "66cd8753-5879-4279-d751-2e1b9902ecc5"
      },
      "execution_count": 5,
      "outputs": [
        {
          "output_type": "stream",
          "name": "stdout",
          "text": [
            "Please enter the city: Portland\n",
            "Please enter the state: Oregon\n",
            "Is it raining in Portland, Oregon? No\n",
            "Is it going to be raining when our class next meets? No\n"
          ]
        }
      ]
    }
  ]
}