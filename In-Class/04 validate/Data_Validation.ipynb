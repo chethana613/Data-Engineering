{
  "nbformat": 4,
  "nbformat_minor": 0,
  "metadata": {
    "colab": {
      "provenance": []
    },
    "kernelspec": {
      "name": "python3",
      "display_name": "Python 3"
    },
    "language_info": {
      "name": "python"
    }
  },
  "cells": [
    {
      "cell_type": "code",
      "source": [
        "cd /content/sample_data"
      ],
      "metadata": {
        "colab": {
          "base_uri": "https://localhost:8080/"
        },
        "id": "IExisZLZOA8L",
        "outputId": "99ab0a81-263f-4449-9ff1-9e7abee284af"
      },
      "execution_count": 1,
      "outputs": [
        {
          "output_type": "stream",
          "name": "stdout",
          "text": [
            "/content/sample_data\n"
          ]
        }
      ]
    },
    {
      "cell_type": "code",
      "execution_count": 2,
      "metadata": {
        "id": "vrlxLPkBNSgN",
        "colab": {
          "base_uri": "https://localhost:8080/"
        },
        "outputId": "6d1d7114-1bd7-4a0c-b42a-9dc15c141273"
      },
      "outputs": [
        {
          "output_type": "stream",
          "name": "stdout",
          "text": [
            "All assertions passed successfully!\n"
          ]
        }
      ],
      "source": [
        "import pandas as pd\n",
        "\n",
        "crash_data = pd.read_csv('Hwy26.csv')  # Replace 'your_test_data.csv' with the actual file path\n",
        "\n",
        "# Existence Assertions Validation\n",
        "assert 'Crash Severity' in crash_data.columns, \"Assertion Error: Crash Severity field is missing\"\n",
        "\n",
        "print(\"All Existence assertions passed successfully!\")"
      ]
    },
    {
      "cell_type": "code",
      "source": [
        "# Limit Assertions Validation\n",
        "assert crash_data['Crash Year'].min() == 2019, \"Assertion Error: Crashes occurred outside the year 2019\"\n",
        "valid_speed_limits = crash_data['Posted Speed Limit'].between(0, 100)\n",
        "valid_speed_limits = (crash_data['Posted Speed Limit'] == 0) | (crash_data['Posted Speed Limit'] == 1)\n",
        "valid_speed_limits = (crash_data['Posted Speed Limit'] == 0) | (crash_data['Posted Speed Limit'] == 1) | crash_data['Posted Speed Limit'].isnull()\n",
        "assert valid_speed_limits.mean() == 1.0, \"Assertion Error: Speed Limit values outside expected range (0, 1, or null)\"\n",
        "print(\"All Limit assertions passed successfully!\")"
      ],
      "metadata": {
        "colab": {
          "base_uri": "https://localhost:8080/"
        },
        "id": "ljiUWI2Eam-R",
        "outputId": "227418d2-86f2-4bbf-d381-2b8b6d9f9995"
      },
      "execution_count": 18,
      "outputs": [
        {
          "output_type": "stream",
          "name": "stdout",
          "text": [
            "All Limit assertions passed successfully!\n"
          ]
        }
      ]
    },
    {
      "cell_type": "code",
      "source": [
        "# Intra-record Assertions Validation\n",
        "\n",
        "assert crash_data[crash_data['Highway Number'].notnull()]['Highway Component'].notnull().all(), \"Assertion Error: Missing Highway Component for specified Highway Number\"\n",
        "\n",
        "print(\"All Intra-record assertions passed successfully!\")"
      ],
      "metadata": {
        "colab": {
          "base_uri": "https://localhost:8080/"
        },
        "id": "tIhJ0UQfeX3z",
        "outputId": "65f5648c-e907-49aa-b4f7-1676d7fd4604"
      },
      "execution_count": 21,
      "outputs": [
        {
          "output_type": "stream",
          "name": "stdout",
          "text": [
            "All Intra-record assertions passed successfully!\n"
          ]
        }
      ]
    },
    {
      "cell_type": "code",
      "source": [
        "#Summary Assertions validation\n",
        "\n",
        "assert crash_data['Highway Number'].fillna(26).eq(26).all(), \"Assertion Error: Not all crashes occurred on Highway Number 26\"\n",
        "\n",
        "assert crash_data['Crash Year'].notnull().sum() < 10**7, \"Assertion Error: Total crashes exceed millions\"\n",
        "\n",
        "assert crash_data['Crash Severity'].fillna('').value_counts()[2] < len(crash_data), \"Assertion Error: Fatal crashes exceed total crashes\"\n",
        "\n",
        "print(\"All Summary assertions passed successfully!\")"
      ],
      "metadata": {
        "colab": {
          "base_uri": "https://localhost:8080/"
        },
        "id": "7cfJoajpfKSG",
        "outputId": "e4d89693-588e-4717-a642-925ac1ecb46d"
      },
      "execution_count": 32,
      "outputs": [
        {
          "output_type": "stream",
          "name": "stdout",
          "text": [
            "All Summary assertions passed successfully!\n"
          ]
        }
      ]
    },
    {
      "cell_type": "code",
      "source": [
        "#Inter-record asstertions validation\n",
        "\n",
        "assert crash_data['Total Vehicle Count'].fillna(0).sum() == len(crash_data), \"Assertion Error: Total count of crashes does not match sum of crash records\"\n",
        "\n",
        "assert crash_data.groupby('Vehicle ID')['Participant ID'].nunique().min() >= 1, \"Assertion Error: Not every Vehicle ID corresponds to at least one Participant ID\"\n",
        "\n",
        "print(\"All Inter-record assertions passed successfully!\")\n"
      ],
      "metadata": {
        "colab": {
          "base_uri": "https://localhost:8080/",
          "height": 251
        },
        "id": "M-Xc82oWfAIu",
        "outputId": "4aa13f7c-31a4-43ce-cf56-f6caf2558ba1"
      },
      "execution_count": 31,
      "outputs": [
        {
          "output_type": "error",
          "ename": "AssertionError",
          "evalue": "Assertion Error: Total count of crashes does not match sum of crash records",
          "traceback": [
            "\u001b[0;31m---------------------------------------------------------------------------\u001b[0m",
            "\u001b[0;31mAssertionError\u001b[0m                            Traceback (most recent call last)",
            "\u001b[0;32m<ipython-input-31-9774d5574388>\u001b[0m in \u001b[0;36m<cell line: 1>\u001b[0;34m()\u001b[0m\n\u001b[0;32m----> 1\u001b[0;31m \u001b[0;32massert\u001b[0m \u001b[0mcrash_data\u001b[0m\u001b[0;34m[\u001b[0m\u001b[0;34m'Total Vehicle Count'\u001b[0m\u001b[0;34m]\u001b[0m\u001b[0;34m.\u001b[0m\u001b[0mfillna\u001b[0m\u001b[0;34m(\u001b[0m\u001b[0;36m0\u001b[0m\u001b[0;34m)\u001b[0m\u001b[0;34m.\u001b[0m\u001b[0msum\u001b[0m\u001b[0;34m(\u001b[0m\u001b[0;34m)\u001b[0m \u001b[0;34m==\u001b[0m \u001b[0mlen\u001b[0m\u001b[0;34m(\u001b[0m\u001b[0mcrash_data\u001b[0m\u001b[0;34m)\u001b[0m\u001b[0;34m,\u001b[0m \u001b[0;34m\"Assertion Error: Total count of crashes does not match sum of crash records\"\u001b[0m\u001b[0;34m\u001b[0m\u001b[0;34m\u001b[0m\u001b[0m\n\u001b[0m\u001b[1;32m      2\u001b[0m \u001b[0;34m\u001b[0m\u001b[0m\n\u001b[1;32m      3\u001b[0m \u001b[0;32massert\u001b[0m \u001b[0mcrash_data\u001b[0m\u001b[0;34m.\u001b[0m\u001b[0mgroupby\u001b[0m\u001b[0;34m(\u001b[0m\u001b[0;34m'Vehicle ID'\u001b[0m\u001b[0;34m)\u001b[0m\u001b[0;34m[\u001b[0m\u001b[0;34m'Participant ID'\u001b[0m\u001b[0;34m]\u001b[0m\u001b[0;34m.\u001b[0m\u001b[0mnunique\u001b[0m\u001b[0;34m(\u001b[0m\u001b[0;34m)\u001b[0m\u001b[0;34m.\u001b[0m\u001b[0mmin\u001b[0m\u001b[0;34m(\u001b[0m\u001b[0;34m)\u001b[0m \u001b[0;34m>=\u001b[0m \u001b[0;36m1\u001b[0m\u001b[0;34m,\u001b[0m \u001b[0;34m\"Assertion Error: Not every Vehicle ID corresponds to at least one Participant ID\"\u001b[0m\u001b[0;34m\u001b[0m\u001b[0;34m\u001b[0m\u001b[0m\n\u001b[1;32m      4\u001b[0m \u001b[0;34m\u001b[0m\u001b[0m\n\u001b[1;32m      5\u001b[0m \u001b[0mprint\u001b[0m\u001b[0;34m(\u001b[0m\u001b[0;34m\"All Inter-record assertions passed successfully!\"\u001b[0m\u001b[0;34m)\u001b[0m\u001b[0;34m\u001b[0m\u001b[0;34m\u001b[0m\u001b[0m\n",
            "\u001b[0;31mAssertionError\u001b[0m: Assertion Error: Total count of crashes does not match sum of crash records"
          ]
        }
      ]
    },
    {
      "cell_type": "code",
      "source": [
        "# Statistical Distribution Assertions Validation\n",
        "assert crash_data['Week Day Code'].value_counts().min() > len(crash_data) / 7 - 100, \"Assertion Error: Weekday distribution not uniform\"\n",
        "assert crash_data['Crash Month'].value_counts().min() > len(crash_data) / 12 - 100, \"Assertion Error: Monthly distribution not uniform\"\n",
        "\n",
        "\n",
        "print(\"All Statistical Distribution assertions passed successfully!\")"
      ],
      "metadata": {
        "colab": {
          "base_uri": "https://localhost:8080/",
          "height": 251
        },
        "id": "tjNHsV73pGpr",
        "outputId": "0c036a95-82dd-4cc8-88e9-d035ae0379b9"
      },
      "execution_count": 37,
      "outputs": [
        {
          "output_type": "error",
          "ename": "AssertionError",
          "evalue": "Assertion Error: Weekday distribution not uniform",
          "traceback": [
            "\u001b[0;31m---------------------------------------------------------------------------\u001b[0m",
            "\u001b[0;31mAssertionError\u001b[0m                            Traceback (most recent call last)",
            "\u001b[0;32m<ipython-input-37-090800643fa6>\u001b[0m in \u001b[0;36m<cell line: 2>\u001b[0;34m()\u001b[0m\n\u001b[1;32m      1\u001b[0m \u001b[0;31m# Statistical Distribution Assertions Validation\u001b[0m\u001b[0;34m\u001b[0m\u001b[0;34m\u001b[0m\u001b[0m\n\u001b[0;32m----> 2\u001b[0;31m \u001b[0;32massert\u001b[0m \u001b[0mcrash_data\u001b[0m\u001b[0;34m[\u001b[0m\u001b[0;34m'Week Day Code'\u001b[0m\u001b[0;34m]\u001b[0m\u001b[0;34m.\u001b[0m\u001b[0mvalue_counts\u001b[0m\u001b[0;34m(\u001b[0m\u001b[0;34m)\u001b[0m\u001b[0;34m.\u001b[0m\u001b[0mmin\u001b[0m\u001b[0;34m(\u001b[0m\u001b[0;34m)\u001b[0m \u001b[0;34m>\u001b[0m \u001b[0mlen\u001b[0m\u001b[0;34m(\u001b[0m\u001b[0mcrash_data\u001b[0m\u001b[0;34m)\u001b[0m \u001b[0;34m/\u001b[0m \u001b[0;36m7\u001b[0m \u001b[0;34m-\u001b[0m \u001b[0;36m100\u001b[0m\u001b[0;34m,\u001b[0m \u001b[0;34m\"Assertion Error: Weekday distribution not uniform\"\u001b[0m\u001b[0;34m\u001b[0m\u001b[0;34m\u001b[0m\u001b[0m\n\u001b[0m\u001b[1;32m      3\u001b[0m \u001b[0;32massert\u001b[0m \u001b[0mcrash_data\u001b[0m\u001b[0;34m[\u001b[0m\u001b[0;34m'Crash Month'\u001b[0m\u001b[0;34m]\u001b[0m\u001b[0;34m.\u001b[0m\u001b[0mvalue_counts\u001b[0m\u001b[0;34m(\u001b[0m\u001b[0;34m)\u001b[0m\u001b[0;34m.\u001b[0m\u001b[0mmin\u001b[0m\u001b[0;34m(\u001b[0m\u001b[0;34m)\u001b[0m \u001b[0;34m>\u001b[0m \u001b[0mlen\u001b[0m\u001b[0;34m(\u001b[0m\u001b[0mcrash_data\u001b[0m\u001b[0;34m)\u001b[0m \u001b[0;34m/\u001b[0m \u001b[0;36m12\u001b[0m \u001b[0;34m-\u001b[0m \u001b[0;36m100\u001b[0m\u001b[0;34m,\u001b[0m \u001b[0;34m\"Assertion Error: Monthly distribution not uniform\"\u001b[0m\u001b[0;34m\u001b[0m\u001b[0;34m\u001b[0m\u001b[0m\n\u001b[1;32m      4\u001b[0m \u001b[0;34m\u001b[0m\u001b[0m\n\u001b[1;32m      5\u001b[0m \u001b[0;34m\u001b[0m\u001b[0m\n",
            "\u001b[0;31mAssertionError\u001b[0m: Assertion Error: Weekday distribution not uniform"
          ]
        }
      ]
    },
    {
      "cell_type": "markdown",
      "source": [
        "**Part E after Data Validation:**"
      ],
      "metadata": {
        "id": "W97KEBtyAwXn"
      }
    },
    {
      "cell_type": "code",
      "source": [
        "#Revised Inter-record asstertions validation\n",
        "assert crash_data.groupby('Crash ID')['Vehicle ID'].nunique().min() >= 1, \"Assertion Error: Not every crash involves at least one unique vehicle\"\n",
        "\n",
        "assert (crash_data['Total Vehicle Count'].fillna(0) >= 0).all(), \"Assertion Error: Negative vehicle counts in some crashes\"\n",
        "\n",
        "print(\"All Inter-record assertions passed successfully!\")\n"
      ],
      "metadata": {
        "colab": {
          "base_uri": "https://localhost:8080/"
        },
        "id": "bgId7Z_p_g03",
        "outputId": "af98c6a9-6bc3-4d48-90e7-45bb69bfefba"
      },
      "execution_count": 43,
      "outputs": [
        {
          "output_type": "stream",
          "name": "stdout",
          "text": [
            "All Inter-record assertions passed successfully!\n"
          ]
        }
      ]
    },
    {
      "cell_type": "code",
      "source": [
        "# Calculate the standard deviation of crash counts per weekday\n",
        "weekday_std = crash_data['Week Day Code'].value_counts().std()\n",
        "assert weekday_std < len(crash_data) / 7 / 3, \"Assertion Error: Weekday distribution significantly deviates from uniformity\"\n",
        "print(\"All standard deviation assertions passed successfully!\")"
      ],
      "metadata": {
        "colab": {
          "base_uri": "https://localhost:8080/"
        },
        "id": "A7CGzwfLB6EA",
        "outputId": "f25c55b5-6f5b-4b10-afc0-305ab5b9f785"
      },
      "execution_count": 47,
      "outputs": [
        {
          "output_type": "stream",
          "name": "stdout",
          "text": [
            "All standard deviation assertions passed successfully!\n"
          ]
        }
      ]
    },
    {
      "cell_type": "code",
      "source": [],
      "metadata": {
        "id": "zuvLzQ0iGNqK"
      },
      "execution_count": 46,
      "outputs": []
    }
  ]
}