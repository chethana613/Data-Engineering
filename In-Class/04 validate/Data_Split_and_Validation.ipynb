{
  "nbformat": 4,
  "nbformat_minor": 0,
  "metadata": {
    "colab": {
      "provenance": []
    },
    "kernelspec": {
      "name": "python3",
      "display_name": "Python 3"
    },
    "language_info": {
      "name": "python"
    }
  },
  "cells": [
    {
      "cell_type": "code",
      "source": [
        "cd /content/sample_data"
      ],
      "metadata": {
        "colab": {
          "base_uri": "https://localhost:8080/"
        },
        "id": "MJzBiFN3FcW6",
        "outputId": "bdc5bf78-0ce1-4087-f005-e89faa8cdadc"
      },
      "execution_count": 2,
      "outputs": [
        {
          "output_type": "stream",
          "name": "stdout",
          "text": [
            "/content/sample_data\n"
          ]
        }
      ]
    },
    {
      "cell_type": "code",
      "execution_count": 53,
      "metadata": {
        "colab": {
          "base_uri": "https://localhost:8080/"
        },
        "id": "KwN1PRoUFSPP",
        "outputId": "5d1b4d51-d1e9-4806-ce55-3775a52b3e0a"
      },
      "outputs": [
        {
          "output_type": "stream",
          "name": "stdout",
          "text": [
            "Data clustering and output completed successfully!\n"
          ]
        }
      ],
      "source": [
        "import pandas as pd\n",
        "\n",
        "# Read the original data\n",
        "data = pd.read_csv('Hwy26.csv')\n",
        "\n",
        "# Define relevant columns for each category\n",
        "crash_columns = ['Crash ID', 'Record Type', 'Crash Month', 'Crash Day', 'Crash Year',\n",
        "                 'Week Day Code', 'Crash Hour', 'Crash Severity', 'Weather Condition',\n",
        "                 'Road Surface Condition', 'Light Condition', 'Traffic Control Device (TCD)',\n",
        "                 'Investigating Agency']\n",
        "\n",
        "vehicle_columns = ['Vehicle ID', 'Crash ID', 'Vehicle Type Code', 'Vehicle Movement Code',\n",
        "                   'Vehicle Action Code', 'Vehicle Cause 1 Code', 'Vehicle Cause 2 Code',\n",
        "                   'Vehicle Cause 3 Code', 'Vehicle Event 1 Code', 'Vehicle Event 2 Code',\n",
        "                   'Vehicle Event 3 Code', 'Vehicle Exceeded Posted Speed Flag',\n",
        "                   'Vehicle Hit & Run Flag', 'Safety Equipment Used Quantity',\n",
        "                   'Safety Equipment Un-used Quantity', 'Safety Equipment Use Unknown Quantity']\n",
        "\n",
        "participant_columns = ['Participant ID', 'Vehicle ID', 'Crash ID', 'Age', 'Sex', 'Driver License Status',\n",
        "                       'Injury Severity', 'Participant Safety Equipment Use Code', 'Airbag Deployment',\n",
        "                       'Non-Motorist Movement Code', 'Non-Motorist Travel Direction From',\n",
        "                       'Non-Motorist Travel Direction To', 'Non-Motorist Location', 'Participant Action',\n",
        "                       'Participant Error 1 Code', 'Participant Error 2 Code', 'Participant Error 3 Code',\n",
        "                       'Participant Cause 1 Code', 'Participant Cause 2 Code', 'Participant Cause 3 Code',\n",
        "                       'Participant Event 1 Code', 'Participant Event 2 Code', 'Participant Event 3 Code',\n",
        "                       'BAC Test Results Code', 'Alcohol Use Reported', 'Drug Use Reported',\n",
        "                       'Participant Marijuana Use Reported', 'Participant Striker Flag']\n",
        "\n",
        "# Extract data for each category\n",
        "crashes_data = data[crash_columns]\n",
        "vehicles_data = data[vehicle_columns]\n",
        "participants_data = data[participant_columns]\n",
        "\n",
        "# Remove records with null Vehicle ID from vehicles_data\n",
        "vehicles_data = vehicles_data.dropna(subset=['Vehicle ID'])\n",
        "\n",
        "# Output to new files\n",
        "crashes_data.to_csv('crashes_data.csv', index=False)\n",
        "vehicles_data.to_csv('vehicles_data.csv', index=False)\n",
        "participants_data.to_csv('participants_data.csv', index=False)\n",
        "\n",
        "print(\"Data clustering and output completed successfully!\")\n"
      ]
    },
    {
      "cell_type": "code",
      "source": [
        "# Existence Assertions Validation\n",
        "assert crashes_data['Crash ID'].notnull().all(), \"Assertion Error: Missing Crash ID in some crash records\"\n",
        "print(\"All Existence assertions passed successfully!\")"
      ],
      "metadata": {
        "colab": {
          "base_uri": "https://localhost:8080/"
        },
        "id": "4BFHnRRiJosN",
        "outputId": "f6967019-adf0-417e-e354-108c96153e4f"
      },
      "execution_count": 54,
      "outputs": [
        {
          "output_type": "stream",
          "name": "stdout",
          "text": [
            "All Existence assertions passed successfully!\n"
          ]
        }
      ]
    },
    {
      "cell_type": "code",
      "source": [
        "#Existence Assertion\n",
        "assert vehicles_data['Vehicle ID'].notnull().all(), \"Assertion Error: Missing Vehicle ID in some vehicle records\"\n",
        "print(\"All Existence assertions passed successfully!\")\n"
      ],
      "metadata": {
        "colab": {
          "base_uri": "https://localhost:8080/"
        },
        "id": "2vwHK4H3O1yX",
        "outputId": "60b137bd-3b49-48b0-c9c4-05c98379401e"
      },
      "execution_count": 58,
      "outputs": [
        {
          "output_type": "stream",
          "name": "stdout",
          "text": [
            "All Existence assertions passed successfully!\n"
          ]
        }
      ]
    },
    {
      "cell_type": "code",
      "source": [],
      "metadata": {
        "id": "bjkNfNDpYiK-"
      },
      "execution_count": null,
      "outputs": []
    },
    {
      "cell_type": "code",
      "source": [
        "#Inter-record assertion\n",
        "assert vehicles_data['Vehicle ID'].isin(participants_data['Vehicle ID']).all(), \"Assertion Error: Orphaned vehicles found with no corresponding participants\"\n",
        "\n",
        "print(\"All Inter-record assertions passed successfully!\")"
      ],
      "metadata": {
        "colab": {
          "base_uri": "https://localhost:8080/"
        },
        "id": "jVgbk-KxJ2lP",
        "outputId": "8286401d-0c88-44a1-f781-d98c80f0f35f"
      },
      "execution_count": 19,
      "outputs": [
        {
          "output_type": "stream",
          "name": "stdout",
          "text": [
            "All Inter-record assertions passed successfully!\n"
          ]
        }
      ]
    },
    {
      "cell_type": "code",
      "source": [
        "#Intra-Record assertion\n",
        "assert participants_data['Age'].between(0, 9).all(), \"Assertion Error: Invalid participant age detected\"\n",
        "\n",
        "print(\"All Inter-record assertions passed successfully!\")"
      ],
      "metadata": {
        "colab": {
          "base_uri": "https://localhost:8080/",
          "height": 198
        },
        "id": "NqNeJpL8QhrP",
        "outputId": "a6453629-6615-4d38-d5bc-a9312936d6da"
      },
      "execution_count": 59,
      "outputs": [
        {
          "output_type": "error",
          "ename": "AssertionError",
          "evalue": "Assertion Error: Invalid participant age detected",
          "traceback": [
            "\u001b[0;31m---------------------------------------------------------------------------\u001b[0m",
            "\u001b[0;31mAssertionError\u001b[0m                            Traceback (most recent call last)",
            "\u001b[0;32m<ipython-input-59-d96382457850>\u001b[0m in \u001b[0;36m<cell line: 2>\u001b[0;34m()\u001b[0m\n\u001b[1;32m      1\u001b[0m \u001b[0;31m#Intra-Record assertion\u001b[0m\u001b[0;34m\u001b[0m\u001b[0;34m\u001b[0m\u001b[0m\n\u001b[0;32m----> 2\u001b[0;31m \u001b[0;32massert\u001b[0m \u001b[0mparticipants_data\u001b[0m\u001b[0;34m[\u001b[0m\u001b[0;34m'Age'\u001b[0m\u001b[0;34m]\u001b[0m\u001b[0;34m.\u001b[0m\u001b[0mbetween\u001b[0m\u001b[0;34m(\u001b[0m\u001b[0;36m0\u001b[0m\u001b[0;34m,\u001b[0m \u001b[0;36m9\u001b[0m\u001b[0;34m)\u001b[0m\u001b[0;34m.\u001b[0m\u001b[0mall\u001b[0m\u001b[0;34m(\u001b[0m\u001b[0;34m)\u001b[0m\u001b[0;34m,\u001b[0m \u001b[0;34m\"Assertion Error: Invalid participant age detected\"\u001b[0m\u001b[0;34m\u001b[0m\u001b[0;34m\u001b[0m\u001b[0m\n\u001b[0m\u001b[1;32m      3\u001b[0m \u001b[0;34m\u001b[0m\u001b[0m\n\u001b[1;32m      4\u001b[0m \u001b[0mprint\u001b[0m\u001b[0;34m(\u001b[0m\u001b[0;34m\"All Inter-record assertions passed successfully!\"\u001b[0m\u001b[0;34m)\u001b[0m\u001b[0;34m\u001b[0m\u001b[0;34m\u001b[0m\u001b[0m\n",
            "\u001b[0;31mAssertionError\u001b[0m: Assertion Error: Invalid participant age detected"
          ]
        }
      ]
    },
    {
      "cell_type": "code",
      "source": [
        "#Resolving Intra-Record assertion\n",
        "assert participants_data['Age'][participants_data['Age'].notnull()].between(0, 9).all(), \"Assertion Error: Invalid participant age detected\"\n",
        "\n",
        "print(\"All Inter-record assertions passed successfully!\")\n"
      ],
      "metadata": {
        "colab": {
          "base_uri": "https://localhost:8080/"
        },
        "id": "rCDiwpcBJ8yP",
        "outputId": "b6ffe871-44b2-43a9-ac3d-fe7f83c0be57"
      },
      "execution_count": 51,
      "outputs": [
        {
          "output_type": "stream",
          "name": "stdout",
          "text": [
            "All Inter-record assertions passed successfully!\n"
          ]
        }
      ]
    },
    {
      "cell_type": "code",
      "source": [
        "#Inter-record Check Assertions\n",
        "\n",
        "assert participants_data['Crash ID'].isin(crashes_data['Crash ID']).all(), \"Assertion Error: Participant ID not associated with a valid Crash ID\"\n",
        "print(\"All Inter-record assertions passed successfully!\")"
      ],
      "metadata": {
        "colab": {
          "base_uri": "https://localhost:8080/"
        },
        "id": "fhOizLu_KDhe",
        "outputId": "8f40226e-ed49-4e36-e1bd-5c905cfa5312"
      },
      "execution_count": 10,
      "outputs": [
        {
          "output_type": "stream",
          "name": "stdout",
          "text": [
            "All Inter-record assertions passed successfully!\n"
          ]
        }
      ]
    },
    {
      "cell_type": "code",
      "source": [
        "#Summary Check Assertions\n",
        "\n",
        "assert len(vehicles_data) <= len(crashes_data), \"Assertion Error: Total count of vehicles exceeds total count of crashes\"\n",
        "print(\"All Summary assertions passed successfully!\")"
      ],
      "metadata": {
        "colab": {
          "base_uri": "https://localhost:8080/"
        },
        "id": "1BTmbu1XNu9X",
        "outputId": "ed7f6f62-90a5-46c8-d523-ad2e6fe14283"
      },
      "execution_count": 12,
      "outputs": [
        {
          "output_type": "stream",
          "name": "stdout",
          "text": [
            "All Summary assertions passed successfully!\n"
          ]
        }
      ]
    },
    {
      "cell_type": "code",
      "source": [
        "#standard deviation Assertions\n",
        "\n",
        "assert crashes_data['Week Day Code'].value_counts().std() < 50, \"Assertion Error: Weekday distribution is not consistent\"\n",
        "print(\"All standard deviation assertions passed successfully!\")"
      ],
      "metadata": {
        "colab": {
          "base_uri": "https://localhost:8080/"
        },
        "id": "-wk8yqCZN4Xe",
        "outputId": "8170db0a-6bf1-4cab-db07-053ba9b515d2"
      },
      "execution_count": 14,
      "outputs": [
        {
          "output_type": "stream",
          "name": "stdout",
          "text": [
            "All standard deviation assertions passed successfully!\n"
          ]
        }
      ]
    }
  ]
}