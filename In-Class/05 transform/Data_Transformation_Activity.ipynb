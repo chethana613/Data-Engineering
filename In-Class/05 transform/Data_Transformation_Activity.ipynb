{
  "nbformat": 4,
  "nbformat_minor": 0,
  "metadata": {
    "colab": {
      "provenance": [],
      "gpuType": "T4"
    },
    "kernelspec": {
      "name": "python3",
      "display_name": "Python 3"
    },
    "language_info": {
      "name": "python"
    },
    "accelerator": "GPU"
  },
  "cells": [
    {
      "cell_type": "code",
      "source": [
        "import pandas as pd\n",
        "\n",
        "# Read the data into a DataFrame\n",
        "data = pd.read_csv(\"/content/sample_data/bc_trip259172515_230215.csv\")\n",
        "\n",
        "print(data)\n"
      ],
      "metadata": {
        "colab": {
          "base_uri": "https://localhost:8080/"
        },
        "id": "kGOO1hsS1mmt",
        "outputId": "bf5553c3-f42c-49d8-fccb-e1b6ab075842"
      },
      "execution_count": null,
      "outputs": [
        {
          "output_type": "stream",
          "name": "stdout",
          "text": [
            "     EVENT_NO_TRIP  EVENT_NO_STOP            OPD_DATE  VEHICLE_ID  METERS  \\\n",
            "0        259172515      259172517  15FEB2023:00:00:00        4223      40   \n",
            "1        259172515      259172517  15FEB2023:00:00:00        4223      48   \n",
            "2        259172515      259172517  15FEB2023:00:00:00        4223      57   \n",
            "3        259172515      259172517  15FEB2023:00:00:00        4223      73   \n",
            "4        259172515      259172517  15FEB2023:00:00:00        4223     112   \n",
            "..             ...            ...                 ...         ...     ...   \n",
            "156      259172515      259172530  15FEB2023:00:00:00        4223    5834   \n",
            "157      259172515      259172531  15FEB2023:00:00:00        4223    5838   \n",
            "158      259172515      259172531  15FEB2023:00:00:00        4223    5858   \n",
            "159      259172515      259172531  15FEB2023:00:00:00        4223    5889   \n",
            "160      259172515      259172531  15FEB2023:00:00:00        4223    5918   \n",
            "\n",
            "     ACT_TIME  GPS_LONGITUDE  GPS_LATITUDE  GPS_SATELLITES  GPS_HDOP  \n",
            "0       20469    -122.648137     45.493082              12       0.7  \n",
            "1       20474    -122.648240     45.493070              12       0.8  \n",
            "2       20479    -122.648352     45.493123              12       0.8  \n",
            "3       20484    -122.648385     45.493262              12       0.7  \n",
            "4       20489    -122.648347     45.493582              12       0.8  \n",
            "..        ...            ...           ...             ...       ...  \n",
            "156     21389    -122.677057     45.528040              11       0.8  \n",
            "157     21424    -122.677003     45.528037               6       2.0  \n",
            "158     21429    -122.676765     45.528043               7       1.1  \n",
            "159     21434    -122.676370     45.528047              10       1.1  \n",
            "160     21439    -122.675990     45.528065              11       0.8  \n",
            "\n",
            "[161 rows x 10 columns]\n"
          ]
        }
      ]
    },
    {
      "cell_type": "code",
      "execution_count": null,
      "metadata": {
        "colab": {
          "base_uri": "https://localhost:8080/"
        },
        "id": "W7TNZD5zynWw",
        "outputId": "7294b150-eb69-4613-9682-50f7dbaa4488"
      },
      "outputs": [
        {
          "output_type": "stream",
          "name": "stdout",
          "text": [
            "     EVENT_NO_TRIP            OPD_DATE  VEHICLE_ID  METERS  ACT_TIME  \\\n",
            "0        259172515  15FEB2023:00:00:00        4223      40     20469   \n",
            "1        259172515  15FEB2023:00:00:00        4223      48     20474   \n",
            "2        259172515  15FEB2023:00:00:00        4223      57     20479   \n",
            "3        259172515  15FEB2023:00:00:00        4223      73     20484   \n",
            "4        259172515  15FEB2023:00:00:00        4223     112     20489   \n",
            "..             ...                 ...         ...     ...       ...   \n",
            "156      259172515  15FEB2023:00:00:00        4223    5834     21389   \n",
            "157      259172515  15FEB2023:00:00:00        4223    5838     21424   \n",
            "158      259172515  15FEB2023:00:00:00        4223    5858     21429   \n",
            "159      259172515  15FEB2023:00:00:00        4223    5889     21434   \n",
            "160      259172515  15FEB2023:00:00:00        4223    5918     21439   \n",
            "\n",
            "     GPS_LONGITUDE  GPS_LATITUDE  \n",
            "0      -122.648137     45.493082  \n",
            "1      -122.648240     45.493070  \n",
            "2      -122.648352     45.493123  \n",
            "3      -122.648385     45.493262  \n",
            "4      -122.648347     45.493582  \n",
            "..             ...           ...  \n",
            "156    -122.677057     45.528040  \n",
            "157    -122.677003     45.528037  \n",
            "158    -122.676765     45.528043  \n",
            "159    -122.676370     45.528047  \n",
            "160    -122.675990     45.528065  \n",
            "\n",
            "[161 rows x 7 columns]\n"
          ]
        }
      ],
      "source": [
        "import pandas as pd\n",
        "\n",
        "# Read the data into a DataFrame\n",
        "data = pd.read_csv(\"/content/sample_data/bc_trip259172515_230215.csv\")\n",
        "\n",
        "# Drop unnecessary columns using drop() method\n",
        "filtered_data = data.drop(columns=['EVENT_NO_STOP', 'GPS_SATELLITES', 'GPS_HDOP'])\n",
        "\n",
        "print(filtered_data)\n"
      ]
    },
    {
      "cell_type": "code",
      "source": [
        "# Read the data into a DataFrame and filter columns using usecols parameter\n",
        "filtered_data = pd.read_csv(\"/content/sample_data/bc_trip259172515_230215.csv\", usecols=lambda column: column not in ['EVENT_NO_STOP', 'GPS_SATELLITES', 'GPS_HDOP'])\n",
        "\n",
        "print(filtered_data)"
      ],
      "metadata": {
        "colab": {
          "base_uri": "https://localhost:8080/"
        },
        "id": "CrlRO6V916aJ",
        "outputId": "4b84ec8d-2a0f-437c-f9c5-80adcf7f963d"
      },
      "execution_count": null,
      "outputs": [
        {
          "output_type": "stream",
          "name": "stdout",
          "text": [
            "     EVENT_NO_TRIP            OPD_DATE  VEHICLE_ID  METERS  ACT_TIME  \\\n",
            "0        259172515  15FEB2023:00:00:00        4223      40     20469   \n",
            "1        259172515  15FEB2023:00:00:00        4223      48     20474   \n",
            "2        259172515  15FEB2023:00:00:00        4223      57     20479   \n",
            "3        259172515  15FEB2023:00:00:00        4223      73     20484   \n",
            "4        259172515  15FEB2023:00:00:00        4223     112     20489   \n",
            "..             ...                 ...         ...     ...       ...   \n",
            "156      259172515  15FEB2023:00:00:00        4223    5834     21389   \n",
            "157      259172515  15FEB2023:00:00:00        4223    5838     21424   \n",
            "158      259172515  15FEB2023:00:00:00        4223    5858     21429   \n",
            "159      259172515  15FEB2023:00:00:00        4223    5889     21434   \n",
            "160      259172515  15FEB2023:00:00:00        4223    5918     21439   \n",
            "\n",
            "     GPS_LONGITUDE  GPS_LATITUDE  \n",
            "0      -122.648137     45.493082  \n",
            "1      -122.648240     45.493070  \n",
            "2      -122.648352     45.493123  \n",
            "3      -122.648385     45.493262  \n",
            "4      -122.648347     45.493582  \n",
            "..             ...           ...  \n",
            "156    -122.677057     45.528040  \n",
            "157    -122.677003     45.528037  \n",
            "158    -122.676765     45.528043  \n",
            "159    -122.676370     45.528047  \n",
            "160    -122.675990     45.528065  \n",
            "\n",
            "[161 rows x 7 columns]\n"
          ]
        }
      ]
    },
    {
      "cell_type": "markdown",
      "source": [
        "**Decoding**"
      ],
      "metadata": {
        "id": "SY0bBmeX45e_"
      }
    },
    {
      "cell_type": "code",
      "source": [
        "from datetime import datetime, timedelta\n",
        "\n",
        "\n",
        "def decode_timestamp(row):\n",
        "  # Create datetime object from OPD_DATE with correct format\n",
        "  date_time = pd.to_datetime(row['OPD_DATE'], format='%d%b%Y:%H:%M:%S')\n",
        "\n",
        "  # Create timedelta object from ACT_TIME (seconds since midnight)\n",
        "  time_delta = pd.Timedelta(seconds=row['ACT_TIME'])\n",
        "\n",
        "  # Combine date and time\n",
        "  timestamp = date_time + time_delta\n",
        "  return timestamp\n",
        "\n",
        "\n",
        "# Apply the function to create a new 'TIMESTAMP' column\n",
        "filtered_data['TIMESTAMP'] = filtered_data.apply(decode_timestamp, axis=1)\n",
        "print(filtered_data)"
      ],
      "metadata": {
        "colab": {
          "base_uri": "https://localhost:8080/"
        },
        "id": "fXlqdm3N4SoA",
        "outputId": "615fd7f7-f968-4d23-ef91-0f37fda16723"
      },
      "execution_count": null,
      "outputs": [
        {
          "output_type": "stream",
          "name": "stdout",
          "text": [
            "     EVENT_NO_TRIP            OPD_DATE  VEHICLE_ID  METERS  ACT_TIME  \\\n",
            "0        259172515  15FEB2023:00:00:00        4223      40     20469   \n",
            "1        259172515  15FEB2023:00:00:00        4223      48     20474   \n",
            "2        259172515  15FEB2023:00:00:00        4223      57     20479   \n",
            "3        259172515  15FEB2023:00:00:00        4223      73     20484   \n",
            "4        259172515  15FEB2023:00:00:00        4223     112     20489   \n",
            "..             ...                 ...         ...     ...       ...   \n",
            "156      259172515  15FEB2023:00:00:00        4223    5834     21389   \n",
            "157      259172515  15FEB2023:00:00:00        4223    5838     21424   \n",
            "158      259172515  15FEB2023:00:00:00        4223    5858     21429   \n",
            "159      259172515  15FEB2023:00:00:00        4223    5889     21434   \n",
            "160      259172515  15FEB2023:00:00:00        4223    5918     21439   \n",
            "\n",
            "     GPS_LONGITUDE  GPS_LATITUDE           TIMESTAMP  \n",
            "0      -122.648137     45.493082 2023-02-15 05:41:09  \n",
            "1      -122.648240     45.493070 2023-02-15 05:41:14  \n",
            "2      -122.648352     45.493123 2023-02-15 05:41:19  \n",
            "3      -122.648385     45.493262 2023-02-15 05:41:24  \n",
            "4      -122.648347     45.493582 2023-02-15 05:41:29  \n",
            "..             ...           ...                 ...  \n",
            "156    -122.677057     45.528040 2023-02-15 05:56:29  \n",
            "157    -122.677003     45.528037 2023-02-15 05:57:04  \n",
            "158    -122.676765     45.528043 2023-02-15 05:57:09  \n",
            "159    -122.676370     45.528047 2023-02-15 05:57:14  \n",
            "160    -122.675990     45.528065 2023-02-15 05:57:19  \n",
            "\n",
            "[161 rows x 8 columns]\n"
          ]
        }
      ]
    },
    {
      "cell_type": "markdown",
      "source": [
        "**More Filtering**"
      ],
      "metadata": {
        "id": "k6_YV5WN5kcN"
      }
    },
    {
      "cell_type": "code",
      "source": [
        "# Deleting the OPD_DATE and ACT_TIME columns\n",
        "filtered_data.drop(columns=['OPD_DATE', 'ACT_TIME'], inplace=True)\n",
        "\n",
        "print(filtered_data)\n"
      ],
      "metadata": {
        "colab": {
          "base_uri": "https://localhost:8080/"
        },
        "id": "8dghsLTa5dBh",
        "outputId": "d9e16050-b4c5-444f-d1cf-e9d7ba3f967d"
      },
      "execution_count": null,
      "outputs": [
        {
          "output_type": "stream",
          "name": "stdout",
          "text": [
            "     EVENT_NO_TRIP  VEHICLE_ID  METERS  GPS_LONGITUDE  GPS_LATITUDE  \\\n",
            "0        259172515        4223      40    -122.648137     45.493082   \n",
            "1        259172515        4223      48    -122.648240     45.493070   \n",
            "2        259172515        4223      57    -122.648352     45.493123   \n",
            "3        259172515        4223      73    -122.648385     45.493262   \n",
            "4        259172515        4223     112    -122.648347     45.493582   \n",
            "..             ...         ...     ...            ...           ...   \n",
            "156      259172515        4223    5834    -122.677057     45.528040   \n",
            "157      259172515        4223    5838    -122.677003     45.528037   \n",
            "158      259172515        4223    5858    -122.676765     45.528043   \n",
            "159      259172515        4223    5889    -122.676370     45.528047   \n",
            "160      259172515        4223    5918    -122.675990     45.528065   \n",
            "\n",
            "              TIMESTAMP  \n",
            "0   2023-02-15 05:41:09  \n",
            "1   2023-02-15 05:41:14  \n",
            "2   2023-02-15 05:41:19  \n",
            "3   2023-02-15 05:41:24  \n",
            "4   2023-02-15 05:41:29  \n",
            "..                  ...  \n",
            "156 2023-02-15 05:56:29  \n",
            "157 2023-02-15 05:57:04  \n",
            "158 2023-02-15 05:57:09  \n",
            "159 2023-02-15 05:57:14  \n",
            "160 2023-02-15 05:57:19  \n",
            "\n",
            "[161 rows x 6 columns]\n"
          ]
        }
      ]
    },
    {
      "cell_type": "markdown",
      "source": [
        "**Enhance**"
      ],
      "metadata": {
        "id": "wvdatlLt_onD"
      }
    },
    {
      "cell_type": "code",
      "source": [
        "# Check the data types of 'dMETERS' and 'dTIMESTAMP' columns\n",
        "print(filtered_data.dtypes)\n"
      ],
      "metadata": {
        "colab": {
          "base_uri": "https://localhost:8080/"
        },
        "id": "q50iPXo4AR-M",
        "outputId": "3e458498-e753-4d54-dea8-093761de1bb6"
      },
      "execution_count": null,
      "outputs": [
        {
          "output_type": "stream",
          "name": "stdout",
          "text": [
            "EVENT_NO_TRIP             int64\n",
            "VEHICLE_ID                int64\n",
            "METERS                    int64\n",
            "GPS_LONGITUDE           float64\n",
            "GPS_LATITUDE            float64\n",
            "TIMESTAMP        datetime64[ns]\n",
            "dtype: object\n"
          ]
        }
      ]
    },
    {
      "cell_type": "code",
      "source": [
        "# Calculate difference in meters and timestamps between consecutive rows\n",
        "filtered_data['dMETERS'] = filtered_data['METERS'].diff()\n",
        "filtered_data['dTIMESTAMP'] = filtered_data['TIMESTAMP'].diff()\n",
        "\n",
        "# Calculate speed (meters per second) using lambda function\n",
        "filtered_data['SPEED'] = filtered_data.apply(lambda row: row['dMETERS'] / row['dTIMESTAMP'].total_seconds() if pd.notnull(row['dTIMESTAMP']) and row['dTIMESTAMP'] != 0 else 0, axis=1)\n",
        "\n",
        "# Drop temporary columns\n",
        "df = filtered_data.drop(columns=['dMETERS', 'dTIMESTAMP'])\n",
        "\n",
        "# Get statistics of speed\n",
        "speed_stats = df['SPEED'].describe()\n",
        "print(speed_stats)\n"
      ],
      "metadata": {
        "colab": {
          "base_uri": "https://localhost:8080/"
        },
        "id": "JVeTed_WneFT",
        "outputId": "4ea93ff9-4258-4728-8389-aefa204c8d25"
      },
      "execution_count": null,
      "outputs": [
        {
          "output_type": "stream",
          "name": "stdout",
          "text": [
            "count    161.000000\n",
            "mean       7.182316\n",
            "std        4.443425\n",
            "min        0.000000\n",
            "25%        3.800000\n",
            "50%        6.400000\n",
            "75%       10.800000\n",
            "max       17.400000\n",
            "Name: SPEED, dtype: float64\n"
          ]
        }
      ]
    },
    {
      "cell_type": "code",
      "source": [
        "print(f\"Minimum Speed:{filtered_data['SPEED'].min()}\")\n",
        "print(f\"Minimum Speed:{filtered_data['SPEED'].max()}\")\n",
        "print(f\"Avg Speed:{filtered_data['SPEED'].mean()}\")"
      ],
      "metadata": {
        "colab": {
          "base_uri": "https://localhost:8080/"
        },
        "id": "M3ByaStWAef3",
        "outputId": "c729dd61-a6df-4c6d-d51d-708d8dbf2414"
      },
      "execution_count": null,
      "outputs": [
        {
          "output_type": "stream",
          "name": "stdout",
          "text": [
            "Minimum Speed:0.0\n",
            "Minimum Speed:17.4\n",
            "Avg Speed:7.182316337906399\n"
          ]
        }
      ]
    },
    {
      "cell_type": "markdown",
      "source": [
        "**Larger Dataset:**"
      ],
      "metadata": {
        "id": "gyd5LwsFFxDe"
      }
    },
    {
      "cell_type": "code",
      "source": [
        "import pandas as pd\n",
        "\n",
        "# Function to decode timestamp\n",
        "def decode_timestamp(row):\n",
        "  date_time = pd.to_datetime(row['OPD_DATE'], format='%d%b%Y:%H:%M:%S')\n",
        "  time_delta = pd.Timedelta(seconds=row['ACT_TIME'])\n",
        "  return date_time + time_delta\n",
        "\n",
        "# Function to process each trip\n",
        "def process_trip(data):\n",
        "  # Filter unnecessary columns\n",
        "  data = data.drop(columns=['EVENT_NO_STOP', 'GPS_SATELLITES', 'GPS_HDOP'])\n",
        "\n",
        "  # Decode timestamps\n",
        "  data['TIMESTAMP'] = data.apply(decode_timestamp, axis=1)\n",
        "\n",
        "  # Filter out OPD_DATE and ACT_TIME\n",
        "  data = data.drop(columns=['OPD_DATE', 'ACT_TIME'])\n",
        "\n",
        "  # Calculate speed\n",
        "  data['dMETERS'] = data['METERS'].diff()\n",
        "  data['dTIMESTAMP'] = data['TIMESTAMP'].diff()\n",
        "  data['SPEED'] = data['dMETERS'] / (data['dTIMESTAMP'] / pd.Timedelta(seconds=1))\n",
        "\n",
        "  # Drop temporary columns\n",
        "  data = data.drop(columns=['dMETERS', 'dTIMESTAMP'])\n",
        "\n",
        "  # Get speed statistics including median speed (handle potential NaT)\n",
        "  speed_stats = data['SPEED'].describe()\n",
        "  median_speed = speed_stats.get('50%', pd.NaT)  # Use get to handle potential missing key\n",
        "\n",
        "  # Return processed data and speed statistics\n",
        "  return data, speed_stats, median_speed\n",
        "\n",
        "# Read the larger dataset\n",
        "data = pd.read_csv(\"/content/sample_data/bc_veh4223_230215.csv\")\n",
        "\n",
        "# Find unique trip IDs\n",
        "unique_trips = data['EVENT_NO_TRIP'].unique()\n",
        "\n",
        "# Initialize variables\n",
        "max_speed = 0\n",
        "max_speed_trip = None\n",
        "total_median_speed = []  # Initialize to accumulate median speed\n",
        "\n",
        "# Process each trip data separately\n",
        "for trip in unique_trips:\n",
        "  # Filter data for the current trip\n",
        "  trip_data = data[data['EVENT_NO_TRIP'] == trip]\n",
        "\n",
        "  # Process trip data and get statistics including median speed\n",
        "  trip_processed, trip_stats, trip_median_speed = process_trip(trip_data)\n",
        "\n",
        "  # Update overall maximum speed details (handle potential NaT)\n",
        "  if not pd.isna(trip_stats['max']) and trip_stats['max'] > max_speed:\n",
        "    max_speed = trip_stats['max']\n",
        "    max_speed_trip = trip\n",
        "    max_speed_time = trip_processed[trip_processed['SPEED'] == max_speed]['TIMESTAMP'].iloc[0]  # Find timestamp for max speed\n",
        "\n",
        "  # Accumulate non-missing median speed across trips\n",
        "  if not pd.isna(trip_median_speed):\n",
        "    total_median_speed.append(trip_median_speed)\n",
        "\n",
        "# Calculate median speed, handling missing values\n",
        "total_median_speed = pd.Series(total_median_speed)\n",
        "median_median_speed = total_median_speed.median() if not total_median_speed.empty else None  # Check for empty series\n",
        "\n",
        "# Print results\n",
        "print(\"Maximum speed for vehicle #4223:\", max_speed, \"meters per second\")\n",
        "print(\"Trip ID where maximum speed occurred:\", max_speed_trip)\n",
        "print(\"Date and time of maximum speed:\", max_speed_time.strftime('%Y-%m-%d %H:%M:%S') if not pd.isna(max_speed_time) else \"No maximum speed detected\")\n",
        "print(\"Median speed for vehicle #4223 on February 15, 2023:\", median_median_speed if median_median_speed is not None else \"No median speed data available\")"
      ],
      "metadata": {
        "colab": {
          "base_uri": "https://localhost:8080/"
        },
        "id": "cczFgKADfwrS",
        "outputId": "f174ddd1-3802-4430-8856-6ce6d87e3352"
      },
      "execution_count": 8,
      "outputs": [
        {
          "output_type": "stream",
          "name": "stdout",
          "text": [
            "Maximum speed for vehicle #4223: 17.4 meters per second\n",
            "Trip ID where maximum speed occurred: 259172515\n",
            "Date and time of maximum speed: 2023-02-15 05:44:49\n",
            "Median speed for vehicle #4223 on February 15, 2023: 7.300000000000001\n"
          ]
        }
      ]
    },
    {
      "cell_type": "markdown",
      "source": [
        "**Full Data Set:**"
      ],
      "metadata": {
        "id": "6VuIQPPStZob"
      }
    },
    {
      "cell_type": "code",
      "source": [
        "import pandas as pd\n",
        "\n",
        "df_full = pd.read_csv(\"/content/sample_data/bc_230215.csv\")\n",
        "\n",
        "# Filtering\n",
        "columns_to_drop = ['EVENT_NO_STOP', 'GPS_SATELLITES', 'GPS_HDOP']\n",
        "df_full.drop(columns=columns_to_drop, inplace=True)\n",
        "\n",
        "# Decoding\n",
        "opd_dates = pd.to_datetime(df_full['OPD_DATE'], format='%d%b%Y:%H:%M:%S')\n",
        "act_times = pd.to_timedelta(df_full['ACT_TIME'], unit='s')\n",
        "df_full['TIMESTAMP'] = opd_dates + act_times\n",
        "\n",
        "# Speed Calculations\n",
        "df_full['dMETERS'] = df_full.groupby(['VEHICLE_ID', 'EVENT_NO_TRIP'])['METERS'].diff()\n",
        "df_full['dTIMESTAMP'] = df_full.groupby(['VEHICLE_ID', 'EVENT_NO_TRIP'])['TIMESTAMP'].diff()\n",
        "df_full['SPEED'] = df_full['dMETERS'] / df_full['dTIMESTAMP'].dt.total_seconds()\n",
        "\n",
        "max_speed = df_full['SPEED'].max()\n",
        "median_speed = df_full['SPEED'].median()\n",
        "\n",
        "max_speed_row = df_full.loc[df_full['SPEED'].idxmax()]\n",
        "max_speed_vehicle = max_speed_row['VEHICLE_ID']\n",
        "max_speed_trip = max_speed_row['EVENT_NO_TRIP']\n",
        "max_speed_timestamp = max_speed_row['TIMESTAMP']\n",
        "\n",
        "# Fastest Mean Speed\n",
        "mean_speeds = df_full.groupby(['VEHICLE_ID', 'EVENT_NO_TRIP'])['SPEED'].mean().reset_index()\n",
        "fastest_mean_speed = mean_speeds['SPEED'].max()\n",
        "fastest_index = mean_speeds['SPEED'].idxmax()\n",
        "fastest_vehicle = mean_speeds.loc[fastest_index, 'VEHICLE_ID']\n",
        "fastest_trip = mean_speeds.loc[fastest_index, 'EVENT_NO_TRIP']\n",
        "\n",
        "print(\"Maximum speed for any vehicle on February 15, 2023:\", max_speed)\n",
        "#print(\"Median speed for all vehicles on February 15, 2023:\", median_speed)\n",
        "print(\"Maximum speed occurred for vehicle\", max_speed_vehicle, \"on trip ->\", max_speed_trip, \"at:>\", max_speed_timestamp)\n",
        "print(\"Fastest mean speed for any single trip on February 15, 2023 is: \", fastest_mean_speed, \"for vehicle->\", fastest_vehicle, \"on trip->\", fastest_trip)\n"
      ],
      "metadata": {
        "colab": {
          "base_uri": "https://localhost:8080/"
        },
        "id": "CAIF4UmAIecS",
        "outputId": "a58f4989-e839-4f47-c467-27dddf5c3763"
      },
      "execution_count": 22,
      "outputs": [
        {
          "output_type": "stream",
          "name": "stdout",
          "text": [
            "Maximum speed for any vehicle on February 15, 2023: 200.33333333333334\n",
            "Maximum speed occurred for vehicle 3244 on trip -> 258750515 at:> 2023-02-15 18:05:38\n",
            "Fastest mean speed for any single trip on February 15, 2023 is:  22.110692666415368 for vehicle-> 3419 on trip-> 258614729\n"
          ]
        }
      ]
    }
  ]
}