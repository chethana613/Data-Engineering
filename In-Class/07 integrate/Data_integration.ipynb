{
  "nbformat": 4,
  "nbformat_minor": 0,
  "metadata": {
    "colab": {
      "provenance": []
    },
    "kernelspec": {
      "name": "python3",
      "display_name": "Python 3"
    },
    "language_info": {
      "name": "python"
    }
  },
  "cells": [
    {
      "cell_type": "code",
      "source": [
        "cd /content/sample_data\n"
      ],
      "metadata": {
        "colab": {
          "base_uri": "https://localhost:8080/"
        },
        "id": "JP9xNgzcufmv",
        "outputId": "61307540-f248-440f-db00-0ec4ed78ad6a"
      },
      "execution_count": 7,
      "outputs": [
        {
          "output_type": "stream",
          "name": "stdout",
          "text": [
            "/content/sample_data\n"
          ]
        }
      ]
    },
    {
      "cell_type": "code",
      "execution_count": 8,
      "metadata": {
        "colab": {
          "base_uri": "https://localhost:8080/"
        },
        "id": "bdItB2mMfmLx",
        "outputId": "58410a00-1ad8-48b0-bb7f-be4edd267213"
      },
      "outputs": [
        {
          "output_type": "stream",
          "name": "stdout",
          "text": [
            "         State   County  Total Population  Poverty %  Per Capita Income\n",
            "3000  Virginia  Loudoun            374558   3.689598       50455.645745\n",
            "      State      County  Total Population  Poverty %  Per Capita Income\n",
            "426  Oregon  Washington            572071  10.321202       35369.047499\n",
            "         State  County  Total Population  Poverty %  Per Capita Income\n",
            "1824  Kentucky  Harlan             27548  35.669482       15456.971032\n",
            "       State   County  Total Population  Poverty %  Per Capita Income\n",
            "2629  Oregon  Malheur             30421  24.298225       17567.504323\n",
            "          State       County  Total Population  Poverty %  Per Capita Income\n",
            "782  California  Los Angeles          10105722  16.998271       30798.189407\n",
            "      State  County  Total Population  Poverty %  Per Capita Income\n",
            "2877  Texas  Loving                74       17.1            35530.0\n"
          ]
        }
      ],
      "source": [
        "import pandas as pd\n",
        "import numpy\n",
        "import datetime\n",
        "\n",
        "censusTractData = pd.read_csv(\"./acs2017_census_tract_data.csv\")\n",
        "\n",
        "counties = censusTractData[\"County\"].unique()\n",
        "entries = []\n",
        "for county in counties:\n",
        "    # Find all the entries for the county\n",
        "    county_data = censusTractData[censusTractData['County'] == county]\n",
        "\n",
        "    # Get the states for the given county name, and calculate the data for the state/county combinations\n",
        "    states = county_data['State'].unique()\n",
        "    for state in states:\n",
        "        # Find all the entries for this state and county\n",
        "        state_county_data = county_data[county_data['State'] == state]\n",
        "\n",
        "        # Calculate the field we want\n",
        "        total_population = state_county_data['TotalPop'].sum()\n",
        "\n",
        "        population_in_poverty = numpy.array(state_county_data['TotalPop']) * (numpy.array(state_county_data['Poverty'])/100)\n",
        "        population_in_poverty = population_in_poverty[~numpy.isnan(population_in_poverty)]\n",
        "        overall_poverty_percentage = (numpy.sum(population_in_poverty) / total_population) * 100\n",
        "\n",
        "        total_incomes_per_population = numpy.array(state_county_data['TotalPop']) * numpy.array(state_county_data['IncomePerCap'])\n",
        "        total_incomes_per_population = total_incomes_per_population[~numpy.isnan(total_incomes_per_population)]\n",
        "        total_income_per_capita = numpy.sum(total_incomes_per_population) / total_population\n",
        "\n",
        "        # Save the fields (along with the state and county names)\n",
        "        entries.append([state, county.replace(\" County\", \"\"), total_population, overall_poverty_percentage, total_income_per_capita])\n",
        "\n",
        "County_Info = pd.DataFrame(entries, columns=['State', 'County', 'Total Population', 'Poverty %', 'Per Capita Income'])\n",
        "\n",
        "print(County_Info.query(\"County == 'Loudoun' and State == 'Virginia'\"))\n",
        "print(County_Info.query(\"County == 'Washington' and State == 'Oregon'\"))\n",
        "print(County_Info.query(\"County == 'Harlan' and State == 'Kentucky'\"))\n",
        "print(County_Info.query(\"County == 'Malheur' and State == 'Oregon'\"))\n",
        "\n",
        "max_population = County_Info['Total Population'].max()\n",
        "min_population = County_Info['Total Population'].min()\n",
        "\n",
        "print(County_Info.query(f\"`Total Population` == {max_population}\"))\n",
        "print(County_Info.query(f\"`Total Population` == {min_population}\"))"
      ]
    },
    {
      "cell_type": "code",
      "source": [
        "import pandas as pd\n",
        "import datetime\n",
        "\n",
        "# Read the data from the CSV file\n",
        "covidData = pd.read_csv(\"./COVID_county_data.csv\")\n",
        "\n",
        "# Get the individual counties, then combine all the data for the state/county combinations\n",
        "counties = covidData[\"county\"].unique()\n",
        "entries = []\n",
        "for county in counties:\n",
        "    # Find all the entries for the county\n",
        "    county_data = covidData[covidData['county'] == county]\n",
        "\n",
        "    # Get the states for the given county name, and calculate the data for the state/county combinations\n",
        "    states = county_data['state'].unique()\n",
        "    for state in states:\n",
        "        # Find all the entries for this state and county\n",
        "        state_county_data = county_data[county_data['state'] == state]\n",
        "\n",
        "        # Calculate the fields we want\n",
        "        total_cases = state_county_data['cases'].sum()\n",
        "        total_deaths = state_county_data['deaths'].sum()\n",
        "\n",
        "        feb_2021_start = datetime.datetime(2021, 2, 1)\n",
        "        feb_2021_end = datetime.datetime(2021, 2, 28)\n",
        "        feb_2021_rows = pd.to_datetime(state_county_data['date']).between(feb_2021_start, feb_2021_end, inclusive='both')\n",
        "        feb_2021_data = state_county_data[feb_2021_rows]\n",
        "\n",
        "        cases_reported_feb_2021 = feb_2021_data['cases'].sum()\n",
        "        deaths_reported_feb_2021 = feb_2021_data['deaths'].sum()\n",
        "\n",
        "        # Save the fields (along with the state and county names)\n",
        "        entries.append([state, county, total_cases, total_deaths, cases_reported_feb_2021, deaths_reported_feb_2021])\n",
        "\n",
        "# Write all the values we've saved to a new csv\n",
        "covid_feb_monthly = pd.DataFrame(entries, columns=[\"State\", \"County\", \"TotalCases\", \"TotalDeaths\", \"Feb2021Cases\", \"Feb2021Deaths\"])\n",
        "covid_feb_monthly.to_csv('covid_feb_monthly.csv', index=False)\n"
      ],
      "metadata": {
        "id": "_aokGBbnw3dn"
      },
      "execution_count": 11,
      "outputs": []
    },
    {
      "cell_type": "code",
      "source": [
        "aug_entries = []\n",
        "for county in counties:\n",
        "    # Find all the entries for the county\n",
        "    county_data = covidData[covidData['county'] == county]\n",
        "\n",
        "    # Get the states for the given county name, and calculate the data for the state/county combinations\n",
        "    states = county_data['state'].unique()\n",
        "    for state in states:\n",
        "        # Find all the entries for this state and county\n",
        "        state_county_data = county_data[county_data['state'] == state]\n",
        "        #print(state_county_data)\n",
        "\n",
        "        # Calculate the fields we want\n",
        "        total_cases = state_county_data['cases'].sum()\n",
        "        total_deaths = state_county_data['deaths'].sum()\n",
        "\n",
        "        aug_2020_start = datetime.datetime(2020, 8, 1)\n",
        "        aug_2020_end = datetime.datetime(2020, 8, 31)\n",
        "        aug_2020_rows = pd.to_datetime(state_county_data['date']).between(aug_2020_start, aug_2020_end, inclusive='both')\n",
        "        aug_2020_data = state_county_data[aug_2020_rows]\n",
        "\n",
        "        cases_reported_aug_2020 = aug_2020_data['cases'].sum()\n",
        "        deaths_reported_aug_2020 = aug_2020_data['deaths'].sum()\n",
        "\n",
        "        #Save the fields (along with the state and county names)\n",
        "        aug_entries.append([state, county, total_cases, total_deaths, cases_reported_aug_2020, deaths_reported_aug_2020])\n",
        "\n",
        "# Write all the values we've saved to a new csv\n",
        "covid_aug_monthly = pd.DataFrame(aug_entries, columns=[\"State\", \"County\", \"TotalCases\", \"TotalDeaths\", \"Aug2020Cases\", \"Aug2020Deaths\"])\n"
      ],
      "metadata": {
        "id": "7MzspB5Z04nt"
      },
      "execution_count": 12,
      "outputs": []
    },
    {
      "cell_type": "code",
      "source": [
        "entries = []\n",
        "for county in counties:\n",
        "    # Find all the entries for the county\n",
        "    county_data = covidData[covidData['county'] == county]\n",
        "\n",
        "    # Get the states for the given county name, and calculate the data for the state/county combinations\n",
        "    states = county_data['state'].unique()\n",
        "    for state in states:\n",
        "        # Find all the entries for this state and county\n",
        "        state_county_data = county_data[county_data['state'] == state]\n",
        "        #print(state_county_data)\n",
        "\n",
        "        # Calculate the fields we want\n",
        "        total_cases = state_county_data['cases'].sum()\n",
        "        total_deaths = state_county_data['deaths'].sum()\n",
        "\n",
        "        jan_2021_start = datetime.datetime(2021, 1, 1)\n",
        "        jan_2021_end = datetime.datetime(2021, 1, 31)\n",
        "        jan_2021_rows = pd.to_datetime(state_county_data['date']).between(jan_2021_start, jan_2021_end, inclusive='both')\n",
        "        jan_2021_data = state_county_data[jan_2021_rows]\n",
        "\n",
        "        cases_reported_jan_2021 = jan_2021_data['cases'].sum()\n",
        "        deaths_reported_jan_2021 = jan_2021_data['deaths'].sum()\n",
        "\n",
        "        # Save the fields (along with the state and county names)\n",
        "        entries.append([state, county, total_cases, total_deaths, cases_reported_jan_2021, deaths_reported_jan_2021])\n",
        "\n",
        "# Write all the values we've saved to a new csv\n",
        "covid_jan_monthly = pd.DataFrame(entries, columns=[\"State\", \"County\", \"TotalCases\", \"TotalDeaths\", \"Jan2021Cases\", \"Jan2021Deaths\"])"
      ],
      "metadata": {
        "id": "Tw8jLTiH1s0W"
      },
      "execution_count": 14,
      "outputs": []
    },
    {
      "cell_type": "code",
      "source": [
        "print(covid_feb_monthly.query(\"County == 'Malheur'\"))\n",
        "print(covid_aug_monthly.query(\"County == 'Malheur'\"))\n",
        "print(covid_jan_monthly.query(\"County == 'Malheur'\"))"
      ],
      "metadata": {
        "colab": {
          "base_uri": "https://localhost:8080/"
        },
        "id": "c3cFoB3w1xz3",
        "outputId": "a3db7c75-b91c-4499-b245-d8687933c7c8"
      },
      "execution_count": 15,
      "outputs": [
        {
          "output_type": "stream",
          "name": "stdout",
          "text": [
            "       State   County  TotalCases  TotalDeaths  Feb2021Cases  Feb2021Deaths\n",
            "2645  Oregon  Malheur      453634       7770.0         65951         1137.0\n",
            "       State   County  TotalCases  TotalDeaths  Aug2020Cases  Aug2020Deaths\n",
            "2645  Oregon  Malheur      453634       7770.0         28163          459.0\n",
            "       State   County  TotalCases  TotalDeaths  Jan2021Cases  Jan2021Deaths\n",
            "2645  Oregon  Malheur      453634       7770.0         96297         1627.0\n"
          ]
        }
      ]
    },
    {
      "cell_type": "code",
      "source": [
        "COVID_summary = County_Info.merge(covid_jan_monthly, how='inner')\n",
        "COVID_summary = COVID_summary.drop(columns=['Jan2021Cases', 'Jan2021Deaths'])\n",
        "#print(COVID_summary)\n",
        "\n",
        "COVID_summary[\"id\"] = COVID_summary.index + 1\n",
        "\n",
        "cols = list(COVID_summary.columns)\n",
        "cols = [cols[-1]] + cols[:-1]\n",
        "COVID_summary = COVID_summary[cols]\n",
        "\n",
        "def getTotalCasesPer100K(row):\n",
        "        total_population = int(row['Total Population'])/ 100000\n",
        "        return int(row['TotalCases'])/ total_population\n",
        "\n",
        "def getTotalDeathsPer100K(row):\n",
        "        total_population = int(row['Total Population'])/ 100000\n",
        "        return int(row['TotalDeaths'])/ total_population\n",
        "\n",
        "COVID_summary['TotalCasesPer100K'] = COVID_summary.apply(lambda row: getTotalCasesPer100K(row), axis=1)\n",
        "COVID_summary['TotalDeathsPer100K'] = COVID_summary.apply(lambda row: getTotalDeathsPer100K(row), axis=1)\n",
        "\n",
        "print(COVID_summary.query(\"County == 'Washington' and State == 'Oregon'\"))\n",
        "print(COVID_summary.query(\"County == 'Malheur' and State == 'Oregon'\"))\n",
        "print(COVID_summary.query(\"County == 'Loudoun' and State == 'Virginia'\"))\n",
        "print(COVID_summary.query(\"County == 'Harlan' and State == 'Kentucky'\"))"
      ],
      "metadata": {
        "colab": {
          "base_uri": "https://localhost:8080/"
        },
        "id": "CV_n0-fZ6KzA",
        "outputId": "1fd1aac6-2b24-4309-c5bf-5c2290290721"
      },
      "execution_count": 16,
      "outputs": [
        {
          "output_type": "stream",
          "name": "stdout",
          "text": [
            "      id   State      County  Total Population  Poverty %  Per Capita Income  \\\n",
            "426  427  Oregon  Washington            572071  10.321202       35369.047499   \n",
            "\n",
            "      ID  TotalCases  TotalDeaths  TotalCasesPer100K  TotalDeathsPer100K  \n",
            "426  426     2157339      22455.0      377110.358679          3925.21208  \n",
            "        id   State   County  Total Population  Poverty %  Per Capita Income  \\\n",
            "2555  2556  Oregon  Malheur             30421  24.298225       17567.504323   \n",
            "\n",
            "        ID  TotalCases  TotalDeaths  TotalCasesPer100K  TotalDeathsPer100K  \n",
            "2555  2629      453634       7770.0       1.491187e+06        25541.566681  \n",
            "        id     State   County  Total Population  Poverty %  Per Capita Income  \\\n",
            "2926  2927  Virginia  Loudoun            374558   3.689598       50455.645745   \n",
            "\n",
            "        ID  TotalCases  TotalDeaths  TotalCasesPer100K  TotalDeathsPer100K  \n",
            "2926  3000     2496450      35820.0       666505.58792          9563.27191  \n",
            "        id     State  County  Total Population  Poverty %  Per Capita Income  \\\n",
            "1817  1818  Kentucky  Harlan             27548  35.669482       15456.971032   \n",
            "\n",
            "        ID  TotalCases  TotalDeaths  TotalCasesPer100K  TotalDeathsPer100K  \n",
            "1817  1824      205984       3994.0       747727.60273        14498.330187  \n"
          ]
        }
      ]
    },
    {
      "cell_type": "code",
      "source": [
        "def calculateR(column1, column2, data, isOregon):\n",
        "    R = data[column1].corr(data[column2])\n",
        "    print(R)\n",
        "    if (R > 0.5 or R < -0.5):\n",
        "        plotName = column1 + \"-\" + column2 + \".png\"\n",
        "        if (isOregon == True):\n",
        "            plotName = \"Oregon-\" + plotName\n",
        "        data.plot.scatter(column1, column2).get_figure().savefig(\"graphs/\" + plotName)\n",
        "\n",
        "\n",
        "# Calculate the correlation between columns for all counties in the state of Oregon\n",
        "print(\"*****Correlation between columns for all counties in the state of Oregon*****\")\n",
        "oregon_data = COVID_summary[COVID_summary['State'] == \"Oregon\"]\n",
        "calculateR(\"TotalCases\", \"Poverty %\", oregon_data, True)\n",
        "calculateR(\"TotalDeaths\", \"Poverty %\", oregon_data, True)\n",
        "calculateR(\"TotalCases\", \"Per Capita Income\", oregon_data, True)\n",
        "calculateR(\"TotalDeaths\", \"Per Capita Income\", oregon_data, True)\n",
        "\n",
        "# Calculate the correlation between columns for all counties\n",
        "print(\"*****Correlation between columns across all of the counties in the entire USA*****\")\n",
        "calculateR(\"TotalCases\", \"Poverty %\", COVID_summary, False)\n",
        "calculateR(\"TotalDeaths\", \"Poverty %\", COVID_summary, False)\n",
        "calculateR(\"TotalCases\", \"Per Capita Income\", COVID_summary, False)\n",
        "calculateR(\"TotalDeaths\", \"Per Capita Income\", COVID_summary, False)\n",
        "\n",
        "print(\"***** R values *****\")\n",
        "calculateR(\"Poverty %\", \"TotalCases\", oregon_data, True)\n",
        "calculateR(\"Total Population\", \"TotalCases\", COVID_summary, False)\n",
        "calculateR(\"Per Capita Income\", \"TotalDeaths\", oregon_data, True)\n",
        "calculateR(\"Per Capita Income\", \"TotalDeaths\", COVID_summary, True)\n",
        "#For all counties : Correlation between Total Population and COVID deaths.\n",
        "calculateR(\"Total Population\", \"TotalDeaths\", COVID_summary, True)"
      ],
      "metadata": {
        "colab": {
          "base_uri": "https://localhost:8080/",
          "height": 1000
        },
        "id": "ZKMlu1SU6P68",
        "outputId": "deaf9d89-103d-4c32-86b6-b37bd2e10e11"
      },
      "execution_count": 18,
      "outputs": [
        {
          "output_type": "stream",
          "name": "stdout",
          "text": [
            "*****Correlation between columns for all counties in the state of Oregon*****\n",
            "-0.11895289856840803\n",
            "-0.07086194982221236\n",
            "0.47878573380016975\n",
            "0.426137843830716\n",
            "*****Correlation between columns across all of the counties in the entire USA*****\n",
            "-0.037114413108778235\n",
            "-0.04135891047986936\n",
            "0.18585952997050914\n",
            "0.21967385647735752\n",
            "***** R values *****\n",
            "-0.11895289856840803\n",
            "0.966204914543859\n",
            "0.426137843830716\n",
            "0.21967385647735752\n",
            "0.88300587697606\n"
          ]
        },
        {
          "output_type": "display_data",
          "data": {
            "text/plain": [
              "<Figure size 640x480 with 1 Axes>"
            ],
            "image/png": "[encoded data removed]"
          },
          "metadata": {}
        },
        {
          "output_type": "display_data",
          "data": {
            "text/plain": [
              "<Figure size 640x480 with 1 Axes>"
            ],
            "image/png": "[encoded data removed]"
          },
          "metadata": {}
        }
      ]
    }
  ]
}